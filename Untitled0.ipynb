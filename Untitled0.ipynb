{
  "nbformat": 4,
  "nbformat_minor": 0,
  "metadata": {
    "colab": {
      "provenance": [],
      "gpuType": "T4",
      "authorship_tag": "ABX9TyPn07E/HiE6syNGKT+b0zZK",
      "include_colab_link": true
    },
    "kernelspec": {
      "name": "python3",
      "display_name": "Python 3"
    },
    "language_info": {
      "name": "python"
    },
    "accelerator": "GPU"
  },
  "cells": [
    {
      "cell_type": "markdown",
      "metadata": {
        "id": "view-in-github",
        "colab_type": "text"
      },
      "source": [
        "<a href=\"https://colab.research.google.com/github/Cami-dunphy/cpk_plaro_data/blob/main/Untitled0.ipynb\" target=\"_parent\"><img src=\"https://colab.research.google.com/assets/colab-badge.svg\" alt=\"Open In Colab\"/></a>"
      ]
    },
    {
      "cell_type": "code",
      "source": [
        "pip install nlpaug\n"
      ],
      "metadata": {
        "colab": {
          "base_uri": "https://localhost:8080/"
        },
        "id": "IP_yPyegqqlF",
        "outputId": "15e4f768-184a-4bd3-88aa-9b2e7a76ecf2"
      },
      "execution_count": null,
      "outputs": [
        {
          "output_type": "stream",
          "name": "stdout",
          "text": [
            "Collecting nlpaug\n",
            "  Downloading nlpaug-1.1.11-py3-none-any.whl.metadata (14 kB)\n",
            "Requirement already satisfied: numpy>=1.16.2 in /usr/local/lib/python3.10/dist-packages (from nlpaug) (1.26.4)\n",
            "Requirement already satisfied: pandas>=1.2.0 in /usr/local/lib/python3.10/dist-packages (from nlpaug) (2.2.2)\n",
            "Requirement already satisfied: requests>=2.22.0 in /usr/local/lib/python3.10/dist-packages (from nlpaug) (2.32.3)\n",
            "Requirement already satisfied: gdown>=4.0.0 in /usr/local/lib/python3.10/dist-packages (from nlpaug) (5.2.0)\n",
            "Requirement already satisfied: beautifulsoup4 in /usr/local/lib/python3.10/dist-packages (from gdown>=4.0.0->nlpaug) (4.12.3)\n",
            "Requirement already satisfied: filelock in /usr/local/lib/python3.10/dist-packages (from gdown>=4.0.0->nlpaug) (3.16.1)\n",
            "Requirement already satisfied: tqdm in /usr/local/lib/python3.10/dist-packages (from gdown>=4.0.0->nlpaug) (4.66.5)\n",
            "Requirement already satisfied: python-dateutil>=2.8.2 in /usr/local/lib/python3.10/dist-packages (from pandas>=1.2.0->nlpaug) (2.8.2)\n",
            "Requirement already satisfied: pytz>=2020.1 in /usr/local/lib/python3.10/dist-packages (from pandas>=1.2.0->nlpaug) (2024.2)\n",
            "Requirement already satisfied: tzdata>=2022.7 in /usr/local/lib/python3.10/dist-packages (from pandas>=1.2.0->nlpaug) (2024.2)\n",
            "Requirement already satisfied: charset-normalizer<4,>=2 in /usr/local/lib/python3.10/dist-packages (from requests>=2.22.0->nlpaug) (3.4.0)\n",
            "Requirement already satisfied: idna<4,>=2.5 in /usr/local/lib/python3.10/dist-packages (from requests>=2.22.0->nlpaug) (3.10)\n",
            "Requirement already satisfied: urllib3<3,>=1.21.1 in /usr/local/lib/python3.10/dist-packages (from requests>=2.22.0->nlpaug) (2.2.3)\n",
            "Requirement already satisfied: certifi>=2017.4.17 in /usr/local/lib/python3.10/dist-packages (from requests>=2.22.0->nlpaug) (2024.8.30)\n",
            "Requirement already satisfied: six>=1.5 in /usr/local/lib/python3.10/dist-packages (from python-dateutil>=2.8.2->pandas>=1.2.0->nlpaug) (1.16.0)\n",
            "Requirement already satisfied: soupsieve>1.2 in /usr/local/lib/python3.10/dist-packages (from beautifulsoup4->gdown>=4.0.0->nlpaug) (2.6)\n",
            "Requirement already satisfied: PySocks!=1.5.7,>=1.5.6 in /usr/local/lib/python3.10/dist-packages (from requests[socks]->gdown>=4.0.0->nlpaug) (1.7.1)\n",
            "Downloading nlpaug-1.1.11-py3-none-any.whl (410 kB)\n",
            "\u001b[2K   \u001b[90m━━━━━━━━━━━━━━━━━━━━━━━━━━━━━━━━━━━━━━━━\u001b[0m \u001b[32m410.5/410.5 kB\u001b[0m \u001b[31m12.3 MB/s\u001b[0m eta \u001b[36m0:00:00\u001b[0m\n",
            "\u001b[?25hInstalling collected packages: nlpaug\n",
            "Successfully installed nlpaug-1.1.11\n"
          ]
        }
      ]
    },
    {
      "cell_type": "code",
      "execution_count": null,
      "metadata": {
        "colab": {
          "base_uri": "https://localhost:8080/"
        },
        "id": "ovOfQVRuMNoy",
        "outputId": "66672e9e-db23-4f3c-b51c-94a8be01b075"
      },
      "outputs": [
        {
          "output_type": "stream",
          "name": "stderr",
          "text": [
            "/usr/local/lib/python3.10/dist-packages/transformers/tokenization_utils_base.py:1601: FutureWarning: `clean_up_tokenization_spaces` was not set. It will be set to `True` by default. This behavior will be depracted in transformers v4.45, and will be then set to `False` by default. For more details check this issue: https://github.com/huggingface/transformers/issues/31884\n",
            "  warnings.warn(\n",
            "Some weights of DistilBertForSequenceClassification were not initialized from the model checkpoint at distilbert-base-uncased and are newly initialized: ['classifier.bias', 'classifier.weight', 'pre_classifier.bias', 'pre_classifier.weight']\n",
            "You should probably TRAIN this model on a down-stream task to be able to use it for predictions and inference.\n",
            "/usr/local/lib/python3.10/dist-packages/transformers/optimization.py:591: FutureWarning: This implementation of AdamW is deprecated and will be removed in a future version. Use the PyTorch implementation torch.optim.AdamW instead, or set `no_deprecation_warning=True` to disable this warning\n",
            "  warnings.warn(\n",
            "<ipython-input-5-c875308543b6>:73: FutureWarning: `torch.cuda.amp.GradScaler(args...)` is deprecated. Please use `torch.amp.GradScaler('cuda', args...)` instead.\n",
            "  scaler = GradScaler()\n",
            "<ipython-input-5-c875308543b6>:93: FutureWarning: `torch.cuda.amp.autocast(args...)` is deprecated. Please use `torch.amp.autocast('cuda', args...)` instead.\n",
            "  with autocast():\n"
          ]
        },
        {
          "output_type": "stream",
          "name": "stdout",
          "text": [
            "Epoch 1/3\n",
            "Average training loss: 0.5461\n",
            "Validation Metrics:\n",
            "              precision    recall  f1-score   support\n",
            "\n",
            "           0       0.72      0.81      0.76     14979\n",
            "           1       0.78      0.69      0.73     15021\n",
            "\n",
            "    accuracy                           0.75     30000\n",
            "   macro avg       0.75      0.75      0.75     30000\n",
            "weighted avg       0.75      0.75      0.75     30000\n",
            "\n"
          ]
        },
        {
          "output_type": "stream",
          "name": "stderr",
          "text": [
            "<ipython-input-5-c875308543b6>:93: FutureWarning: `torch.cuda.amp.autocast(args...)` is deprecated. Please use `torch.amp.autocast('cuda', args...)` instead.\n",
            "  with autocast():\n"
          ]
        },
        {
          "output_type": "stream",
          "name": "stdout",
          "text": [
            "Epoch 2/3\n",
            "Average training loss: 0.4182\n",
            "Validation Metrics:\n",
            "              precision    recall  f1-score   support\n",
            "\n",
            "           0       0.75      0.73      0.74     14979\n",
            "           1       0.74      0.76      0.75     15021\n",
            "\n",
            "    accuracy                           0.74     30000\n",
            "   macro avg       0.74      0.74      0.74     30000\n",
            "weighted avg       0.74      0.74      0.74     30000\n",
            "\n"
          ]
        },
        {
          "output_type": "stream",
          "name": "stderr",
          "text": [
            "<ipython-input-5-c875308543b6>:93: FutureWarning: `torch.cuda.amp.autocast(args...)` is deprecated. Please use `torch.amp.autocast('cuda', args...)` instead.\n",
            "  with autocast():\n"
          ]
        },
        {
          "output_type": "stream",
          "name": "stdout",
          "text": [
            "Epoch 3/3\n",
            "Average training loss: 0.2998\n",
            "Validation Metrics:\n",
            "              precision    recall  f1-score   support\n",
            "\n",
            "           0       0.74      0.74      0.74     14979\n",
            "           1       0.74      0.75      0.74     15021\n",
            "\n",
            "    accuracy                           0.74     30000\n",
            "   macro avg       0.74      0.74      0.74     30000\n",
            "weighted avg       0.74      0.74      0.74     30000\n",
            "\n",
            "Training completed. Best weighted F1-score: 0.7464\n",
            "Best model saved as 'best_model.pt'\n",
            "Tokenizer saved as 'sarcasm_tokenizer_best'\n"
          ]
        }
      ],
      "source": [
        "import torch\n",
        "import pandas as pd\n",
        "import numpy as np\n",
        "from transformers import DistilBertTokenizer, DistilBertForSequenceClassification, AdamW, get_linear_schedule_with_warmup\n",
        "from torch.utils.data import DataLoader, Dataset\n",
        "from sklearn.model_selection import train_test_split\n",
        "from sklearn.metrics import classification_report\n",
        "from sklearn.utils.class_weight import compute_class_weight\n",
        "import torch.nn.functional as F\n",
        "from torch.cuda.amp import autocast, GradScaler\n",
        "import nlpaug.augmenter.word as naw\n",
        "\n",
        "\n",
        "device = torch.device(\"cuda\" if torch.cuda.is_available() else \"cpu\")\n",
        "\n",
        "\n",
        "tokenizer = DistilBertTokenizer.from_pretrained('distilbert-base-uncased')\n",
        "model = DistilBertForSequenceClassification.from_pretrained('distilbert-base-uncased', num_labels=2)\n",
        "\n",
        "class SarcasmDataset(Dataset):\n",
        "    def __init__(self, dataframe, tokenizer, max_len):\n",
        "        self.dataframe = dataframe\n",
        "        self.tokenizer = tokenizer\n",
        "        self.max_len = max_len\n",
        "\n",
        "    def __len__(self):\n",
        "        return len(self.dataframe)\n",
        "\n",
        "    def __getitem__(self, index):\n",
        "        comment = str(self.dataframe.iloc[index]['comment'])\n",
        "        label = int(self.dataframe.iloc[index]['label'])\n",
        "\n",
        "        encoding = self.tokenizer.encode_plus(\n",
        "            comment,\n",
        "            add_special_tokens=True,\n",
        "            truncation=True,\n",
        "            max_length=self.max_len,\n",
        "            padding='max_length',\n",
        "            return_attention_mask=True,\n",
        "            return_tensors='pt'\n",
        "        )\n",
        "\n",
        "        return {\n",
        "            'input_ids': encoding['input_ids'].flatten(),\n",
        "            'attention_mask': encoding['attention_mask'].flatten(),\n",
        "            'labels': torch.tensor(label, dtype=torch.long)\n",
        "        }\n",
        "\n",
        "aug = naw.SynonymAug(aug_src='wordnet')\n",
        "\n",
        "def augment_data(df):\n",
        "    augmented_comments = []\n",
        "    augmented_labels = []\n",
        "    for _, row in df.iterrows():\n",
        "        augmented_comments.append(aug.augment(row['comment'])[0])\n",
        "        augmented_labels.append(row['label'])\n",
        "\n",
        "    augmented_df = pd.DataFrame({'comment': augmented_comments, 'label': augmented_labels})\n",
        "    return pd.concat([df, augmented_df], ignore_index=True)\n",
        "\n",
        "\n",
        "def unfreeze_layers(model, num_layers):\n",
        "    for param in model.distilbert.embeddings.parameters():\n",
        "        param.requires_grad = True\n",
        "    for i in range(6 - num_layers, 6):\n",
        "        for param in model.distilbert.transformer.layer[i].parameters():\n",
        "            param.requires_grad = True\n",
        "\n",
        "#training function\n",
        "def train_model(model, train_loader, val_loader, optimizer, scheduler, num_epochs, patience):\n",
        "    best_f1 = 0\n",
        "    no_improve = 0\n",
        "    scaler = GradScaler()\n",
        "\n",
        "    for epoch in range(num_epochs):\n",
        "        model.train()\n",
        "        total_loss = 0\n",
        "\n",
        "        if epoch == 0:\n",
        "            unfreeze_layers(model, 2)\n",
        "        elif epoch == 2:\n",
        "            unfreeze_layers(model, 4)\n",
        "        elif epoch == 4:\n",
        "            unfreeze_layers(model, 6)\n",
        "\n",
        "        for batch in train_loader:\n",
        "            optimizer.zero_grad()\n",
        "\n",
        "            input_ids = batch['input_ids'].to(device)\n",
        "            attention_mask = batch['attention_mask'].to(device)\n",
        "            labels = batch['labels'].to(device)\n",
        "\n",
        "            with autocast():\n",
        "                outputs = model(input_ids, attention_mask=attention_mask, labels=labels)\n",
        "                loss = outputs.loss\n",
        "\n",
        "            scaler.scale(loss).backward()\n",
        "            scaler.step(optimizer)\n",
        "            scaler.update()\n",
        "\n",
        "            scheduler.step()\n",
        "\n",
        "            total_loss += loss.item()\n",
        "\n",
        "        avg_train_loss = total_loss / len(train_loader)\n",
        "\n",
        "        model.eval()\n",
        "        val_predictions = []\n",
        "        val_true_labels = []\n",
        "\n",
        "        with torch.no_grad():\n",
        "            for batch in val_loader:\n",
        "                input_ids = batch['input_ids'].to(device)\n",
        "                attention_mask = batch['attention_mask'].to(device)\n",
        "                labels = batch['labels'].to(device)\n",
        "\n",
        "                outputs = model(input_ids, attention_mask=attention_mask)\n",
        "                logits = outputs.logits\n",
        "                predictions = torch.argmax(F.softmax(logits, dim=1), dim=1)\n",
        "\n",
        "                val_predictions.extend(predictions.cpu().numpy())\n",
        "                val_true_labels.extend(labels.cpu().numpy())\n",
        "\n",
        "        report = classification_report(val_true_labels, val_predictions, output_dict=True)\n",
        "        current_f1 = report['weighted avg']['f1-score']\n",
        "\n",
        "        print(f\"Epoch {epoch + 1}/{num_epochs}\")\n",
        "        print(f\"Average training loss: {avg_train_loss:.4f}\")\n",
        "        print(\"Validation Metrics:\")\n",
        "        print(classification_report(val_true_labels, val_predictions))\n",
        "\n",
        "        if current_f1 > best_f1:\n",
        "            best_f1 = current_f1\n",
        "            torch.save(model.state_dict(), \"sarcs_model_fnl.pt\")\n",
        "            no_improve = 0\n",
        "        else:\n",
        "            no_improve += 1\n",
        "            if no_improve >= patience:\n",
        "                print(\"Early stopping triggered\")\n",
        "                break\n",
        "\n",
        "    return best_f1\n",
        "\n",
        "df = pd.read_csv('train-balanced-sarcasm.csv')\n",
        "df = df.dropna()\n",
        "df = df[df['label'].notna() & df['comment'].notna()]\n",
        "df = df[df['label'].isin([0, 1])]\n",
        "df['comment'] = df['comment'].astype(str)\n",
        "df['label'] = df['label'].astype(int)\n",
        "\n",
        "max_samples = 150000\n",
        "df = df.sample(n=min(max_samples, len(df)), random_state=42)\n",
        "\n",
        "train_df, val_df = train_test_split(df, test_size=0.2, random_state=42, stratify=df['label'])\n",
        "\n",
        "\n",
        "train_df = augment_data(train_df)\n",
        "\n",
        "max_len = 256\n",
        "batch_size = 32\n",
        "num_epochs = 3\n",
        "learning_rate = 2e-5\n",
        "warmup_steps = 0.1\n",
        "patience = 3\n",
        "\n",
        "train_dataset = SarcasmDataset(train_df, tokenizer, max_len)\n",
        "train_loader = DataLoader(train_dataset, batch_size=batch_size, shuffle=True)\n",
        "val_dataset = SarcasmDataset(val_df, tokenizer, max_len)\n",
        "val_loader = DataLoader(val_dataset, batch_size=batch_size, shuffle=False)\n",
        "\n",
        "\n",
        "model.to(device)\n",
        "\n",
        "labels = train_df['label'].values\n",
        "class_weights = compute_class_weight('balanced', classes=np.unique(labels), y=labels)\n",
        "class_weights_tensor = torch.tensor(class_weights, dtype=torch.float).to(device)\n",
        "\n",
        "\n",
        "optimizer = AdamW(model.parameters(), lr=learning_rate)\n",
        "total_steps = len(train_loader) * num_epochs\n",
        "scheduler = get_linear_schedule_with_warmup(optimizer,\n",
        "                                            num_warmup_steps=int(warmup_steps * total_steps),\n",
        "                                            num_training_steps=total_steps)\n",
        "\n",
        "\n",
        "best_f1 = train_model(model, train_loader, val_loader, optimizer, scheduler, num_epochs, patience)\n",
        "\n",
        "print(f\"Training completed. Best weighted F1-score: {best_f1:.4f}\")\n",
        "print(\"Best model saved as 'best_model.pt'\")\n",
        "tokenizer.save_pretrained(\"sarcasm_tokenizer_best\")\n",
        "print(\"Tokenizer saved as 'sarcasm_tokenizer_best'\")"
      ]
    },
    {
      "cell_type": "code",
      "source": [
        "!pip install easyocr --no-deps\n"
      ],
      "metadata": {
        "colab": {
          "base_uri": "https://localhost:8080/"
        },
        "id": "PoPOUktkBoeZ",
        "outputId": "37240835-d139-4ed2-c462-6bb7d9497094"
      },
      "execution_count": 5,
      "outputs": [
        {
          "output_type": "stream",
          "name": "stdout",
          "text": [
            "Requirement already satisfied: easyocr in /usr/local/lib/python3.10/dist-packages (1.7.2)\n"
          ]
        }
      ]
    },
    {
      "cell_type": "code",
      "source": [
        "import easyocr\n",
        "import re\n",
        "\n",
        "\n",
        "\n",
        "def clean_text(text):\n",
        "    # Remove extra spaces and newlines\n",
        "    text = ' '.join(text.split())\n",
        "\n",
        "    # Remove URLs\n",
        "    text = re.sub(r'http\\S+|www\\S+|https\\S+', '', text, flags=re.MULTILINE)\n",
        "\n",
        "    # Remove mentions (e.g., @username)\n",
        "    text = re.sub(r'@\\w+', '', text)\n",
        "\n",
        "    # Remove hashtags (optional, keep them if you want to analyze sentiment or topics)\n",
        "    text = re.sub(r'#\\w+', '', text)\n",
        "\n",
        "    # Remove non-alphanumeric characters except spaces\n",
        "    text = re.sub(r'[^a-zA-Z0-9\\s]', '', text)\n",
        "\n",
        "    return text\n",
        "\n",
        "def get_txt(path):\n",
        "    lst=[]\n",
        "    flst=[]\n",
        "    reader = easyocr.Reader(['en'])\n",
        "    result = reader.readtext(path)\n",
        "    for i in range(0,len(result)):\n",
        "        flst.append(result[i][1])\n",
        "\n",
        "    for item in flst:\n",
        "        if len(item) > 15 and not any(char.isdigit() for char in item):\n",
        "            lst.append(clean_text(item))\n",
        "\n",
        "    caption = ' '.join([part for part in lst if part])\n",
        "\n",
        "    return (caption)\n"
      ],
      "metadata": {
        "id": "cq3S-27OBd7a"
      },
      "execution_count": 6,
      "outputs": []
    },
    {
      "cell_type": "code",
      "source": [
        "pip install lime"
      ],
      "metadata": {
        "colab": {
          "base_uri": "https://localhost:8080/"
        },
        "id": "TlLoGV0qCu6R",
        "outputId": "bc14ecf7-f6e0-4400-ac81-ec85137b7470"
      },
      "execution_count": 8,
      "outputs": [
        {
          "output_type": "stream",
          "name": "stdout",
          "text": [
            "Collecting lime\n",
            "  Downloading lime-0.2.0.1.tar.gz (275 kB)\n",
            "\u001b[?25l     \u001b[90m━━━━━━━━━━━━━━━━━━━━━━━━━━━━━━━━━━━━━━━━\u001b[0m \u001b[32m0.0/275.7 kB\u001b[0m \u001b[31m?\u001b[0m eta \u001b[36m-:--:--\u001b[0m\r\u001b[2K     \u001b[91m━━━━━━━━━━━━━━━━━━━━━━━━━━━━━\u001b[0m\u001b[91m╸\u001b[0m\u001b[90m━━━━━━━━━━\u001b[0m \u001b[32m204.8/275.7 kB\u001b[0m \u001b[31m5.8 MB/s\u001b[0m eta \u001b[36m0:00:01\u001b[0m\r\u001b[2K     \u001b[90m━━━━━━━━━━━━━━━━━━━━━━━━━━━━━━━━━━━━━━━━\u001b[0m \u001b[32m275.7/275.7 kB\u001b[0m \u001b[31m5.2 MB/s\u001b[0m eta \u001b[36m0:00:00\u001b[0m\n",
            "\u001b[?25h  Preparing metadata (setup.py) ... \u001b[?25l\u001b[?25hdone\n",
            "Requirement already satisfied: matplotlib in /usr/local/lib/python3.10/dist-packages (from lime) (3.7.1)\n",
            "Requirement already satisfied: numpy in /usr/local/lib/python3.10/dist-packages (from lime) (1.26.4)\n",
            "Requirement already satisfied: scipy in /usr/local/lib/python3.10/dist-packages (from lime) (1.13.1)\n",
            "Requirement already satisfied: tqdm in /usr/local/lib/python3.10/dist-packages (from lime) (4.66.5)\n",
            "Requirement already satisfied: scikit-learn>=0.18 in /usr/local/lib/python3.10/dist-packages (from lime) (1.5.2)\n",
            "Requirement already satisfied: scikit-image>=0.12 in /usr/local/lib/python3.10/dist-packages (from lime) (0.24.0)\n",
            "Requirement already satisfied: networkx>=2.8 in /usr/local/lib/python3.10/dist-packages (from scikit-image>=0.12->lime) (3.4.1)\n",
            "Requirement already satisfied: pillow>=9.1 in /usr/local/lib/python3.10/dist-packages (from scikit-image>=0.12->lime) (10.4.0)\n",
            "Requirement already satisfied: imageio>=2.33 in /usr/local/lib/python3.10/dist-packages (from scikit-image>=0.12->lime) (2.35.1)\n",
            "Requirement already satisfied: tifffile>=2022.8.12 in /usr/local/lib/python3.10/dist-packages (from scikit-image>=0.12->lime) (2024.9.20)\n",
            "Requirement already satisfied: packaging>=21 in /usr/local/lib/python3.10/dist-packages (from scikit-image>=0.12->lime) (24.1)\n",
            "Requirement already satisfied: lazy-loader>=0.4 in /usr/local/lib/python3.10/dist-packages (from scikit-image>=0.12->lime) (0.4)\n",
            "Requirement already satisfied: joblib>=1.2.0 in /usr/local/lib/python3.10/dist-packages (from scikit-learn>=0.18->lime) (1.4.2)\n",
            "Requirement already satisfied: threadpoolctl>=3.1.0 in /usr/local/lib/python3.10/dist-packages (from scikit-learn>=0.18->lime) (3.5.0)\n",
            "Requirement already satisfied: contourpy>=1.0.1 in /usr/local/lib/python3.10/dist-packages (from matplotlib->lime) (1.3.0)\n",
            "Requirement already satisfied: cycler>=0.10 in /usr/local/lib/python3.10/dist-packages (from matplotlib->lime) (0.12.1)\n",
            "Requirement already satisfied: fonttools>=4.22.0 in /usr/local/lib/python3.10/dist-packages (from matplotlib->lime) (4.54.1)\n",
            "Requirement already satisfied: kiwisolver>=1.0.1 in /usr/local/lib/python3.10/dist-packages (from matplotlib->lime) (1.4.7)\n",
            "Requirement already satisfied: pyparsing>=2.3.1 in /usr/local/lib/python3.10/dist-packages (from matplotlib->lime) (3.2.0)\n",
            "Requirement already satisfied: python-dateutil>=2.7 in /usr/local/lib/python3.10/dist-packages (from matplotlib->lime) (2.8.2)\n",
            "Requirement already satisfied: six>=1.5 in /usr/local/lib/python3.10/dist-packages (from python-dateutil>=2.7->matplotlib->lime) (1.16.0)\n",
            "Building wheels for collected packages: lime\n",
            "  Building wheel for lime (setup.py) ... \u001b[?25l\u001b[?25hdone\n",
            "  Created wheel for lime: filename=lime-0.2.0.1-py3-none-any.whl size=283834 sha256=79c43c7fab1db64e7682cb680ea8592b1d15642801b7fc5fb2cf0867cb5815b7\n",
            "  Stored in directory: /root/.cache/pip/wheels/fd/a2/af/9ac0a1a85a27f314a06b39e1f492bee1547d52549a4606ed89\n",
            "Successfully built lime\n",
            "Installing collected packages: lime\n",
            "Successfully installed lime-0.2.0.1\n"
          ]
        }
      ]
    },
    {
      "cell_type": "code",
      "source": [
        "import torch\n",
        "from transformers import DistilBertTokenizer, DistilBertForSequenceClassification\n",
        "from lime.lime_text import LimeTextExplainer\n",
        "#import img_txt\n",
        "import tkinter as tk\n",
        "from tkinter import messagebox\n",
        "import numpy as np\n",
        "import matplotlib.pyplot as plt\n",
        "\n",
        "# root = tk.Tk()\n",
        "# root.withdraw()\n",
        "toknzer = DistilBertTokenizer.from_pretrained('distilbert-base-uncased')\n",
        "model = DistilBertForSequenceClassification.from_pretrained('distilbert-base-uncased', num_labels=2)\n",
        "model.load_state_dict(torch.load('sarcasm_model_0.9.pt', map_location=torch.device('cpu')))\n",
        "model.eval()\n",
        "\n",
        "\n",
        "def pred_sarcs(texts):\n",
        "    encodings = toknzer(texts, return_tensors=\"pt\", padding=True, truncation=True, max_length=128)\n",
        "    with torch.no_grad():\n",
        "        outputs = model(**encodings)\n",
        "    return torch.softmax(outputs.logits, dim=1).numpy()\n",
        "\n",
        "\n",
        "text = get_txt('sar3.jpg')\n",
        "#text='It could blow up my pc fam to important,Highly_Literal' #non-sarcastic\n",
        "#text=\"Yeah dude, just approach random people from your college like an idiot, after all that's how relationships are formed.\" #sarcastic\n",
        "if isinstance(text, bytes):\n",
        "    text = text.decode('utf-8')\n",
        "\n",
        "if not isinstance(text, str):\n",
        "    raise ValueError(\"The extracted text must be a string\")\n",
        "\n",
        "print(f\"Extracted text: {text}\")\n",
        "\n",
        "\n",
        "prediction = pred_sarcs([text])\n",
        "outflag = str(f\"The text is {'sarcastic' if np.argmax(prediction) == 1 else 'not sarcastic'}\")\n",
        "#messagebox.showinfo('Prediction', f\"The text is {'sarcastic' if np.argmax(prediction) == 1 else 'not sarcastic'}\")\n",
        "\n",
        "#Initializing the LIME Text Explainer(XAI)\n",
        "eplner = LimeTextExplainer(class_names=['not sarcastic', 'sarcastic'])\n",
        "exp = eplner.explain_instance(text, pred_sarcs, num_samples=100)\n",
        "feat = exp.as_list()\n",
        "\n",
        "feat_msg = \"Feature Contributions:\\n\"\n",
        "\n",
        "for feature, weight in feat:\n",
        "    feat_msg += f\"{feature}: {weight:.4f}\\n\"\n",
        "\n",
        "msg='All the above words in overall contributed to this prediction by the model!!!'\n",
        "# messagebox.showinfo('Prediction Results!', f\"{outflag}\\n\\n{feat_msg}\\n{text}\")\n",
        "print('Prediction Results!', f\"{outflag}\\n\\n{feat_msg}\\n{text}\\n{msg}\")\n"
      ],
      "metadata": {
        "colab": {
          "base_uri": "https://localhost:8080/"
        },
        "id": "EAH1F2XJBjHr",
        "outputId": "958a43ec-aa88-4da9-c844-4a5bd48344de"
      },
      "execution_count": 16,
      "outputs": [
        {
          "output_type": "stream",
          "name": "stderr",
          "text": [
            "/usr/local/lib/python3.10/dist-packages/transformers/tokenization_utils_base.py:1601: FutureWarning: `clean_up_tokenization_spaces` was not set. It will be set to `True` by default. This behavior will be depracted in transformers v4.45, and will be then set to `False` by default. For more details check this issue: https://github.com/huggingface/transformers/issues/31884\n",
            "  warnings.warn(\n",
            "Some weights of DistilBertForSequenceClassification were not initialized from the model checkpoint at distilbert-base-uncased and are newly initialized: ['classifier.bias', 'classifier.weight', 'pre_classifier.bias', 'pre_classifier.weight']\n",
            "You should probably TRAIN this model on a down-stream task to be able to use it for predictions and inference.\n",
            "<ipython-input-16-a1cc5ef002ac>:14: FutureWarning: You are using `torch.load` with `weights_only=False` (the current default value), which uses the default pickle module implicitly. It is possible to construct malicious pickle data which will execute arbitrary code during unpickling (See https://github.com/pytorch/pytorch/blob/main/SECURITY.md#untrusted-models for more details). In a future release, the default value for `weights_only` will be flipped to `True`. This limits the functions that could be executed during unpickling. Arbitrary objects will no longer be allowed to be loaded via this mode unless they are explicitly allowlisted by the user via `torch.serialization.add_safe_globals`. We recommend you start setting `weights_only=True` for any use case where you don't have full control of the loaded file. Please open an issue on GitHub for any issues related to this experimental feature.\n",
            "  model.load_state_dict(torch.load('sarcasm_model_0.9.pt', map_location=torch.device('cpu')))\n",
            "WARNING:easyocr.easyocr:Neither CUDA nor MPS are available - defaulting to CPU. Note: This module is much faster with a GPU.\n"
          ]
        },
        {
          "output_type": "stream",
          "name": "stdout",
          "text": [
            "Extracted text: DAD go on its safe here one dad vomits another stops grilling entirely\n",
            "Prediction Results! The text is sarcastic\n",
            "\n",
            "Feature Contributions:\n",
            "entirely: 0.4420\n",
            "DAD: 0.2380\n",
            "vomits: -0.2266\n",
            "safe: 0.1594\n",
            "its: -0.1317\n",
            "grilling: 0.1116\n",
            "stops: 0.1065\n",
            "on: -0.1065\n",
            "dad: -0.0724\n",
            "another: 0.0624\n",
            "\n",
            "DAD go on its safe here one dad vomits another stops grilling entirely\n",
            "All the above words in overall contributed to this prediction by the model!!!\n"
          ]
        }
      ]
    },
    {
      "cell_type": "code",
      "source": [
        "\n",
        "plt.style.use('fast')\n",
        "fig, (ax1, ax2) = plt.subplots(1, 2, figsize=(15, 6))\n",
        "\n",
        "\n",
        "features = [f[0] for f in feat]\n",
        "weights = [f[1] for f in feat]\n",
        "\n",
        "sorted_indices = np.argsort(np.abs(weights))\n",
        "features = [features[i] for i in sorted_indices]\n",
        "weights = [weights[i] for i in sorted_indices]\n",
        "colors = ['red' if w < 0 else 'green' for w in weights]\n",
        "\n",
        "#bargraph\n",
        "y_pos = np.arange(len(features))\n",
        "ax1.barh(y_pos, weights, color=colors)\n",
        "ax1.set_yticks(y_pos)\n",
        "ax1.set_yticklabels(features)\n",
        "ax1.set_xlabel('Feature Contribution')\n",
        "ax1.set_title('LIME Feature Importance')\n",
        "ax1.grid(True, axis='x', linestyle='--', alpha=0.7)\n",
        "\n",
        "#Piechart\n",
        "labels = ['Not Sarcastic', 'Sarcastic']\n",
        "sizes = prediction[0] * 100\n",
        "colors = ['lightblue', 'lightcoral']\n",
        "explode = (0.03, 0.03)\n",
        "ax2.pie(sizes, explode=explode, labels=labels, colors=colors,\n",
        "        autopct='%1.1f%%', shadow=True, startangle=90)\n",
        "ax2.axis('equal')\n",
        "ax2.set_title('Prediction Confidence')\n",
        "\n",
        "#title\n",
        "plt.suptitle('Sarcasm Detection Analysis', fontsize=16, y=1.05)\n",
        "plt.tight_layout()\n",
        "prediction_text = f\"Final Prediction: {outflag}\"\n",
        "fig.text(0.5, -0.05, prediction_text, ha='center', fontsize=12)\n",
        "plt.show()\n",
        "plt.close()"
      ],
      "metadata": {
        "colab": {
          "base_uri": "https://localhost:8080/",
          "height": 305
        },
        "id": "zGF2T_ZQChRN",
        "outputId": "6d9aeaec-21f0-4ed0-d5b5-d5ab6083a7bf"
      },
      "execution_count": 17,
      "outputs": [
        {
          "output_type": "display_data",
          "data": {
            "text/plain": [
              "<Figure size 1500x600 with 2 Axes>"
            ],
            "image/png": "[encoded data removed]"
          },
          "metadata": {}
        }
      ]
    }
  ]
}